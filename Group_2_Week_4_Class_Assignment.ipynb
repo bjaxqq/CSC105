{
 "cells": [
  {
   "cell_type": "code",
   "execution_count": 1,
   "metadata": {},
   "outputs": [
    {
     "name": "stdout",
     "output_type": "stream",
     "text": [
      "Elements List: ['Hydrogen', 'Oxygon', 'Carbon', 'Nitrogen']\n"
     ]
    }
   ],
   "source": [
    "elements = [\"Hydrogen\", \"Oxygon\", \"Carbon\", \"Nitrogen\"]\n",
    "print(\"Elements List:\", elements)"
   ]
  },
  {
   "cell_type": "code",
   "execution_count": 2,
   "metadata": {},
   "outputs": [
    {
     "name": "stdout",
     "output_type": "stream",
     "text": [
      "Updated Elements List: ['Hydrogen', 'Oxygen', 'Carbon', 'Nitrogen']\n"
     ]
    }
   ],
   "source": [
    "elements[1] = \"Oxygen\"\n",
    "print(\"Updated Elements List:\", elements)"
   ]
  },
  {
   "cell_type": "code",
   "execution_count": 3,
   "metadata": {},
   "outputs": [],
   "source": [
    "# Question 2a.\n",
    "#\n",
    "# Small errors like the typo in \"Oxygen\" could have consequences if a company is working with elements like this example, leading to safety hazards or incorrect handling of procedures.\n",
    "#\n",
    "# Question 2b.\n",
    "#\n",
    "# Correcting these errors prevents these mistakes from happening by having the data be confirmed before actually working with it."
   ]
  },
  {
   "cell_type": "code",
   "execution_count": 4,
   "metadata": {},
   "outputs": [
    {
     "name": "stdout",
     "output_type": "stream",
     "text": [
      "Updated Elements List: ['Hydrogen', 'Oxygen', 'Helium', 'Carbon', 'Nitrogen']\n"
     ]
    }
   ],
   "source": [
    "elements.insert(2, \"Helium\")\n",
    "print(\"Updated Elements List:\", elements)"
   ]
  },
  {
   "cell_type": "code",
   "execution_count": 5,
   "metadata": {},
   "outputs": [],
   "source": [
    "# Question 3a.\n",
    "#\n",
    "# Biases could influence the exclusion and inclusion of data/elements based on if a certain element complies with federal regulations, which could shape health outcomes by limiting access to information for safer practices."
   ]
  },
  {
   "cell_type": "code",
   "execution_count": 6,
   "metadata": {},
   "outputs": [
    {
     "name": "stdout",
     "output_type": "stream",
     "text": [
      "Updated Elements List: ['Hydrogen', 'Oxygen', 'Helium', 'Carbon', 'Nitrogen', 'Neon']\n"
     ]
    }
   ],
   "source": [
    "elements.append(\"Neon\")\n",
    "print(\"Updated Elements List:\", elements)"
   ]
  },
  {
   "cell_type": "code",
   "execution_count": 7,
   "metadata": {},
   "outputs": [],
   "source": [
    "# Question 4a.\n",
    "#\n",
    "# Expanding a data set reflects growing control over data as there will be more data that a organization has control over for a specific set. There are risks in this because it could lead to data manipulation and could have significant safety impacts."
   ]
  },
  {
   "cell_type": "code",
   "execution_count": 8,
   "metadata": {},
   "outputs": [
    {
     "name": "stdout",
     "output_type": "stream",
     "text": [
      "Initial Length: 4\n",
      "Current Length: 6\n"
     ]
    }
   ],
   "source": [
    "initial_length = 4\n",
    "current_length = len(elements)\n",
    "print(\"Initial Length:\", initial_length)\n",
    "print(\"Current Length:\", current_length)"
   ]
  },
  {
   "cell_type": "code",
   "execution_count": 9,
   "metadata": {},
   "outputs": [],
   "source": [
    "# Question 5a.\n",
    "#\n",
    "# Missing or incoplete data could lead to inaccurate risk assessments or an incorrect measurement, leading to product malfunctions, especially in the case of some product needing a specific amount of an element and now can no longer function because of that error."
   ]
  },
  {
   "cell_type": "code",
   "execution_count": 10,
   "metadata": {},
   "outputs": [
    {
     "name": "stdout",
     "output_type": "stream",
     "text": [
      "Initial Atomic Masses: [1.008, 15.999, 12.011, 14.007, 4.0026, 20.18]\n",
      "Squared Atomic Masses: [1.016064, 255.96800100000002, 144.264121, 196.196049, 16.020806760000003, 407.2324]\n"
     ]
    }
   ],
   "source": [
    "atomic_masses = [1.008, 15.999, 12.011, 14.007, 4.0026, 20.180]\n",
    "squared_masses = [mass ** 2 for mass in atomic_masses]\n",
    "print(\"Initial Atomic Masses:\", atomic_masses)\n",
    "print(\"Squared Atomic Masses:\", squared_masses)"
   ]
  },
  {
   "cell_type": "code",
   "execution_count": null,
   "metadata": {},
   "outputs": [],
   "source": [
    "# Question 6a.\n",
    "#\n",
    "# Manipulation of data can impact the conclusions drawn since if you draw a conclusion off of incorrect data, the end results could be drastically different than what you originally thought it might be. If you have a product with something missing and you make a conclusion on that product then it would be different than if you had that element in it."
   ]
  },
  {
   "cell_type": "code",
   "execution_count": 11,
   "metadata": {},
   "outputs": [
    {
     "name": "stdout",
     "output_type": "stream",
     "text": [
      "Original Elements List: ['Hydrogen', 'Oxygen', 'Helium', 'Carbon', 'Nitrogen', 'Neon']\n",
      "Updated Elements List: ['Hydrogen', 'Oxygen', 'Argon', 'Carbon', 'Nitrogen', 'Neon']\n"
     ]
    }
   ],
   "source": [
    "original_elements = elements.copy()\n",
    "elements.remove(\"Helium\")\n",
    "elements.insert(2, \"Argon\")\n",
    "print(\"Original Elements List:\", original_elements)\n",
    "print(\"Updated Elements List:\", elements)"
   ]
  },
  {
   "cell_type": "code",
   "execution_count": null,
   "metadata": {},
   "outputs": [],
   "source": [
    "# Question 7a.\n",
    "#\n",
    "# Replacing certain elements could reflect global industry trends, such as a prevention of global warming. The use of more earth-friendly elements over mass coal and fossil fuel consumption would align with a trend of becoming eco-friendly.\n",
    "#\n",
    "# Question 7b.\n",
    "#\n",
    "# The process of tracking these changes ensures transparency and accountability by maintaining specific records of chemicals to hold companies accountable for their actions/choices. This way we can ensure a more regulated and safe environment."
   ]
  },
  {
   "cell_type": "code",
   "execution_count": null,
   "metadata": {},
   "outputs": [],
   "source": [
    "# Question 8a.\n",
    "#\n",
    "# The physical infrastructure required to store and analyze chemical data could result in a larger carbon footprint in energy consumption, especially in high-impact areas like chemicals and energy. Also the production and disposal of tech equipment could generate pollution.\n",
    "# \n",
    "# Question 8b.\n",
    "#\n",
    "# The data teams for these companies have a significant responsibility when they discover flaws in data. They have a certain ethical obligation to report these findings so that the company does not proceed with incorrect data. Data management teams could simply think of the fact that this oversight could result in their firing, but also they can create some sort of code to ensure that the data they are gathering and managing is accurate and being well-maintained."
   ]
  }
 ],
 "metadata": {
  "kernelspec": {
   "display_name": "Python 3",
   "language": "python",
   "name": "python3"
  },
  "language_info": {
   "codemirror_mode": {
    "name": "ipython",
    "version": 3
   },
   "file_extension": ".py",
   "mimetype": "text/x-python",
   "name": "python",
   "nbconvert_exporter": "python",
   "pygments_lexer": "ipython3",
   "version": "3.9.6"
  }
 },
 "nbformat": 4,
 "nbformat_minor": 2
}
