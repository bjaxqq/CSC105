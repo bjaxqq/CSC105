{
 "cells": [
  {
   "cell_type": "code",
   "execution_count": 1,
   "metadata": {},
   "outputs": [
    {
     "name": "stdout",
     "output_type": "stream",
     "text": [
      "Week 1: CTR = 5.00%, CR = 10.00%\n",
      "Week 2: CTR = 5.00%, CR = 9.88%\n",
      "Week 3: CTR = 5.00%, CR = 8.50%\n",
      "Week 4: CTR = 5.00%, CR = 9.78%\n",
      "Week 5: CTR = 5.00%, CR = 10.43%\n"
     ]
    }
   ],
   "source": [
    "weeks = ['Week 1', 'Week 2', 'Week 3', 'Week 4', 'Week 5',]\n",
    "impressions = [10000, 8500, 12000, 9200, 11500]\n",
    "clicks = [500, 425,600, 460, 575]\n",
    "conversions = [50, 42, 51, 45, 60]\n",
    "\n",
    "for week, impression, click, conversion in zip(weeks, impressions, clicks, conversions):\n",
    "    ctr = (click / impression) * 100 if impression > 0 else 0\n",
    "    cr = (conversion / click) * 100 if click > 0 else 0\n",
    "    print(f\"{week}: CTR = {ctr:.2f}%, CR = {cr:.2f}%\")"
   ]
  },
  {
   "cell_type": "code",
   "execution_count": 2,
   "metadata": {},
   "outputs": [],
   "source": [
    "# Question 1A. I decided to use a for loop since it can iterate over a fixed list of weeks.\n",
    "\n",
    "# Question 1B. CTR is calculated as clicks/impressions * 100 and CR is conversions/clicks * 100. These are important metrics for assessing how effective an ad campaign is.\n",
    "\n",
    "# Question 1C. Making sure that you have all of the values actually in the sets, make sure you use the right data types, check for outliers, etc.\n",
    "\n",
    "# Question 1D. Alphanumeric data, like customer reviews, can enhaance the analysis by providing qualitative insights into how the customer actually feels about the ad itself.\n",
    "\n",
    "# Question 1E. Location data could also help marketing decisions since different regions have difference preferences for specific items. Using this data would have to be gathered with full transparency as most people would not want their location being tracked by an ad company."
   ]
  },
  {
   "cell_type": "code",
   "execution_count": 3,
   "metadata": {},
   "outputs": [
    {
     "name": "stdout",
     "output_type": "stream",
     "text": [
      "Month 1: Remaining Loan = $9500.00\n",
      "Month 2: Remaining Loan = $9000.00\n",
      "Month 3: Remaining Loan = $8500.00\n",
      "Month 4: Remaining Loan = $8000.00\n",
      "Month 5: Remaining Loan = $7500.00\n",
      "Month 6: Remaining Loan = $7000.00\n",
      "Month 7: Remaining Loan = $6500.00\n",
      "Month 8: Remaining Loan = $6000.00\n",
      "Month 9: Remaining Loan = $5500.00\n",
      "Month 10: Remaining Loan = $5000.00\n",
      "Month 11: Remaining Loan = $4500.00\n",
      "Month 12: Remaining Loan = $4000.00\n",
      "Month 13: Remaining Loan = $3500.00\n",
      "Month 14: Remaining Loan = $3000.00\n",
      "Month 15: Remaining Loan = $2500.00\n",
      "Month 16: Remaining Loan = $2000.00\n",
      "Month 17: Remaining Loan = $1500.00\n",
      "Month 18: Remaining Loan = $1000.00\n",
      "Month 19: Remaining Loan = $500.00\n",
      "Month 20: Remaining Loan = $0.00\n"
     ]
    }
   ],
   "source": [
    "loan = 10000\n",
    "monthly_payment = 500\n",
    "month = 0\n",
    "\n",
    "while loan > 0:\n",
    "    month += 1\n",
    "    loan -= monthly_payment\n",
    "    loan = max(loan, 0)\n",
    "    print(f\"Month {month}: Remaining Loan = ${loan:.2f}\")"
   ]
  },
  {
   "cell_type": "code",
   "execution_count": 4,
   "metadata": {},
   "outputs": [],
   "source": [
    "# Question 2A. I decided to use a while loop since we are iterating all the way down to zero, which while loops are good at.\n",
    "\n",
    "# Question 2B. Some data that you would need to predict in this scenario is the customer's income or their credit history and current score. You could get this through that person's application for the loan and their credit reports, which are usually mandatory for these situations.\n",
    "\n",
    "# Question 2C. Some external factors that might affect the loan repayment predictions could be the state of the economy (both in the person's country and their own), interests rate changes, or employment for the individual. They could be accounted for by building a model that keeps track of all possible factors."
   ]
  },
  {
   "cell_type": "code",
   "execution_count": 5,
   "metadata": {},
   "outputs": [
    {
     "name": "stdout",
     "output_type": "stream",
     "text": [
      "Top 5 High Scores\n",
      "Player 1: Score = 1300\n",
      "Player 2: Score = 1200\n",
      "Player 3: Score = 1100\n",
      "Player 4: Score = 1000\n",
      "Player 5: Score = 950\n"
     ]
    }
   ],
   "source": [
    "scores = [500, 750, 1200, 900, 1000, 300, 700, 1100, 850, 950, 200, 800, 700, 250, 1300, 500, 600, 100, 450, 350]\n",
    "\n",
    "sorted_scores = sorted(scores, reverse = True)\n",
    "top_scores = sorted_scores[:5]\n",
    "\n",
    "print(\"Top 5 High Scores\")\n",
    "for rank, score in enumerate(top_scores, start = 1):\n",
    "    print(f\"Player {rank}: Score = {score}\")"
   ]
  },
  {
   "cell_type": "code",
   "execution_count": null,
   "metadata": {},
   "outputs": [],
   "source": [
    "# Question 3A. I ussed a for loop to iterate through the top scores since we have a fixed list of user's scores.\n",
    "\n",
    "# Question 3B. Machine learning could analyze past player's patterns in the game to predict future high scores or a potential limit for the game's score cap.\n",
    "\n",
    "# Question 3C. If a player wanted more informative data, a chart of their previous scores could be useful to see what percentage of times played reached a certain score.\n",
    "\n",
    "# Question 3D. If the system truly measures the scores by the number on the screen, then there should be no biases since the score is a direct correlation of the gameplay."
   ]
  }
 ],
 "metadata": {
  "kernelspec": {
   "display_name": "Python 3",
   "language": "python",
   "name": "python3"
  },
  "language_info": {
   "codemirror_mode": {
    "name": "ipython",
    "version": 3
   },
   "file_extension": ".py",
   "mimetype": "text/x-python",
   "name": "python",
   "nbconvert_exporter": "python",
   "pygments_lexer": "ipython3",
   "version": "3.9.6"
  }
 },
 "nbformat": 4,
 "nbformat_minor": 2
}
