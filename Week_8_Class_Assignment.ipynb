{
 "cells": [
  {
   "cell_type": "code",
   "execution_count": 4,
   "metadata": {},
   "outputs": [
    {
     "name": "stdout",
     "output_type": "stream",
     "text": [
      "Artworks by Edvard Munch:\n",
      "Title: The Scream, Year: 1893\n",
      "Artworks created before 1893:\n",
      "Title: Mona Lisa, Artist: Leonardo da Vinci, Year: 1503\n",
      "Title: The Last Supper, Artist: Leonardo da Vinci, Year: 1498\n",
      "Title: Starry Night, Artist: Vincent van Gogh, Year: 1889\n",
      "Title: Sunflowers, Artist: Vincent van Gogh, Year: 1888\n"
     ]
    }
   ],
   "source": [
    "# Importing the json library to work with the JSON file\n",
    "import json\n",
    "\n",
    "# Function to load the artworks.json file\n",
    "def load_file(filename='artworks.json'):\n",
    "    # Open the JSON file in read mode and parse the content\n",
    "    with open(filename, 'r') as file:\n",
    "        data = json.load(file)\n",
    "        # Return the list of artworks under the 'artworks' key\n",
    "        return data['artworks']\n",
    "\n",
    "# Function to search for artworks by a specific artist\n",
    "def artist_search(artist_name, artworks):\n",
    "    # Use list comprehension to filter artworks by the given artist's name (case-insensitive)\n",
    "    result = [art for art in artworks if art['artist'].lower() == artist_name.lower()]\n",
    "    # Check if any results were found.\n",
    "    if result:\n",
    "        print(f\"Artworks by {artist_name}:\")\n",
    "        # Print each artwork's title and year\n",
    "        for art in result:\n",
    "            print(f\"Title: {art['title']}, Year: {art['year']}\")\n",
    "    else:\n",
    "        # Notify the user if no artworks are found for the specified artist\n",
    "        print(f\"No artworks found by artist '{artist_name}'.\")\n",
    "\n",
    "# Function to search for artworks before or after a given year\n",
    "def year_search(year, condition, artworks):\n",
    "    # Determine if the search is for artworks before or after the given year\n",
    "    if condition.lower() == \"before\":\n",
    "        result = [art for art in artworks if art['year'] < year]\n",
    "    elif condition.lower() == \"after\":\n",
    "        result = [art for art in artworks if art['year'] > year]\n",
    "    else:\n",
    "        # Handle invalid input\n",
    "        print(\"Invalid condition. Please use 'before' or 'after'.\")\n",
    "        return\n",
    "\n",
    "    # Check if any results were found\n",
    "    if result:\n",
    "        print(f\"Artworks created {condition} {year}:\")\n",
    "        # Print each artwork's title, artist, and year.\n",
    "        for art in result:\n",
    "            print(f\"Title: {art['title']}, Artist: {art['artist']}, Year: {art['year']}\")\n",
    "    else:\n",
    "        # Print if no artworks match the search criteria\n",
    "        print(f\"No artworks found {condition} the year {year}.\")\n",
    "\n",
    "# Load the artworks data from the JSON file\n",
    "artworks = load_file()\n",
    "\n",
    "# Get input from the user for the artist's name and search for their artworks\n",
    "artist_name = input(\"Enter the artist's name to search for: \")\n",
    "artist_search(artist_name, artworks)\n",
    "\n",
    "# Get input from the user for the year and condition (before/after) and perform the search\n",
    "year = int(input(\"Enter a year to search for: \"))\n",
    "condition = input(\"Do you want artworks 'before' or 'after' this year? \")\n",
    "year_search(year, condition, artworks)\n"
   ]
  }
 ],
 "metadata": {
  "kernelspec": {
   "display_name": "Python 3",
   "language": "python",
   "name": "python3"
  },
  "language_info": {
   "codemirror_mode": {
    "name": "ipython",
    "version": 3
   },
   "file_extension": ".py",
   "mimetype": "text/x-python",
   "name": "python",
   "nbconvert_exporter": "python",
   "pygments_lexer": "ipython3",
   "version": "3.9.6"
  }
 },
 "nbformat": 4,
 "nbformat_minor": 2
}
