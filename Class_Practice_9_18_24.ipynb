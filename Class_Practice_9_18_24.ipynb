{
 "cells": [
  {
   "cell_type": "code",
   "execution_count": 1,
   "metadata": {},
   "outputs": [
    {
     "name": "stdout",
     "output_type": "stream",
     "text": [
      "['red', 'orange', 'yellow', 'green']\n"
     ]
    }
   ],
   "source": [
    "colors = [\"red\", \"orange\", \"yellow\", \"green\"]\n",
    "print(colors)"
   ]
  },
  {
   "cell_type": "code",
   "execution_count": 2,
   "metadata": {},
   "outputs": [
    {
     "name": "stdout",
     "output_type": "stream",
     "text": [
      "before ['red', 'orange', 'yellow', 'green']\n",
      "after ['red', 'orange', 'yellow', 'green', 'blue']\n"
     ]
    }
   ],
   "source": [
    "print(\"before\", colors)\n",
    "colors.append(\"blue\")\n",
    "print(\"after\", colors)"
   ]
  },
  {
   "cell_type": "code",
   "execution_count": 3,
   "metadata": {},
   "outputs": [
    {
     "name": "stdout",
     "output_type": "stream",
     "text": [
      "before ['red', 'orange', 'yellow', 'green', 'blue']\n",
      "after ['red', 'orange', 'yellow', 'green', 'blue', 'baby blue', 'purple']\n"
     ]
    }
   ],
   "source": [
    "print(\"before\", colors)\n",
    "colors.extend([\"baby blue\", \"purple\"])\n",
    "print(\"after\", colors)"
   ]
  },
  {
   "cell_type": "code",
   "execution_count": 4,
   "metadata": {},
   "outputs": [
    {
     "name": "stdout",
     "output_type": "stream",
     "text": [
      "before ['red', 'orange', 'yellow', 'green', 'blue', 'baby blue', 'purple']\n",
      "after ['red', 'orange', 'yellow', 'green', 'blue', 'purple']\n"
     ]
    }
   ],
   "source": [
    "print(\"before\", colors)\n",
    "colors.remove(\"baby blue\")\n",
    "print(\"after\", colors)"
   ]
  },
  {
   "cell_type": "code",
   "execution_count": 6,
   "metadata": {},
   "outputs": [
    {
     "name": "stdout",
     "output_type": "stream",
     "text": [
      "before ['red', 'orange', 'yellow', 'green', 'blue', 'purple']\n",
      "after ['orange', 'yellow', 'green', 'blue', 'purple']\n"
     ]
    }
   ],
   "source": [
    "print(\"before\", colors)\n",
    "colors.pop(0)\n",
    "print(\"after\", colors)"
   ]
  },
  {
   "cell_type": "code",
   "execution_count": 7,
   "metadata": {},
   "outputs": [
    {
     "name": "stdout",
     "output_type": "stream",
     "text": [
      "before ['orange', 'yellow', 'green', 'blue', 'purple']\n",
      "after ['red', 'orange', 'yellow', 'green', 'blue', 'purple']\n"
     ]
    }
   ],
   "source": [
    "print(\"before\", colors)\n",
    "colors.insert(0, \"red\")\n",
    "print(\"after\", colors)"
   ]
  },
  {
   "cell_type": "code",
   "execution_count": 8,
   "metadata": {},
   "outputs": [
    {
     "name": "stdout",
     "output_type": "stream",
     "text": [
      "length 6\n"
     ]
    }
   ],
   "source": [
    "length = len(colors)\n",
    "print(\"length\", length)"
   ]
  },
  {
   "cell_type": "code",
   "execution_count": 9,
   "metadata": {},
   "outputs": [
    {
     "name": "stdout",
     "output_type": "stream",
     "text": [
      "1st item red\n",
      "3rd item yellow\n"
     ]
    }
   ],
   "source": [
    "print(\"1st item\", colors[0])\n",
    "print(\"3rd item\", colors[2])"
   ]
  },
  {
   "cell_type": "code",
   "execution_count": 10,
   "metadata": {},
   "outputs": [
    {
     "name": "stdout",
     "output_type": "stream",
     "text": [
      "last item purple\n"
     ]
    }
   ],
   "source": [
    "print(\"last item\", colors[5])"
   ]
  },
  {
   "cell_type": "code",
   "execution_count": 11,
   "metadata": {},
   "outputs": [
    {
     "name": "stdout",
     "output_type": "stream",
     "text": [
      "last item purple\n"
     ]
    }
   ],
   "source": [
    "print(\"last item\", colors[length - 1])"
   ]
  },
  {
   "cell_type": "code",
   "execution_count": 12,
   "metadata": {},
   "outputs": [
    {
     "name": "stdout",
     "output_type": "stream",
     "text": [
      "last item purple\n"
     ]
    }
   ],
   "source": [
    "print(\"last item\", colors[-1])"
   ]
  },
  {
   "cell_type": "code",
   "execution_count": 13,
   "metadata": {},
   "outputs": [
    {
     "name": "stdout",
     "output_type": "stream",
     "text": [
      "before ['red', 'orange', 'yellow', 'green', 'blue', 'purple']\n",
      "after ['red', 'orange', 'yellow', 'GREEN', 'blue', 'purple']\n"
     ]
    }
   ],
   "source": [
    "print(\"before\", colors)\n",
    "colors[3] = 'GREEN'\n",
    "print(\"after\", colors)"
   ]
  },
  {
   "cell_type": "code",
   "execution_count": 14,
   "metadata": {},
   "outputs": [
    {
     "name": "stdout",
     "output_type": "stream",
     "text": [
      "colors list ['purple', 'blue', 'GREEN', 'yellow', 'orange', 'red']\n",
      "colors reversed None\n"
     ]
    }
   ],
   "source": [
    "colors_reverse = colors.reverse()\n",
    "print(\"colors list\", colors)\n",
    "print(\"colors reversed\", colors_reverse)"
   ]
  },
  {
   "cell_type": "code",
   "execution_count": 16,
   "metadata": {},
   "outputs": [
    {
     "name": "stdout",
     "output_type": "stream",
     "text": [
      "colors list: ['red', 'orange', 'yellow', 'GREEN', 'blue', 'purple']\n",
      "colors_copy list: ['red', 'orange', 'yellow', 'GREEN', 'blue', 'purple']\n"
     ]
    }
   ],
   "source": [
    "colors_copy = colors\n",
    "print(\"colors list:\", colors)\n",
    "print(\"colors_copy list:\", colors_copy)"
   ]
  },
  {
   "cell_type": "code",
   "execution_count": 17,
   "metadata": {},
   "outputs": [
    {
     "name": "stdout",
     "output_type": "stream",
     "text": [
      "colors list: ['red', 'orange', 'yellow', 'GREEN', 'blue', 'purple']\n",
      "colors copy list: ['purple', 'blue', 'GREEN', 'yellow', 'orange', 'red']\n"
     ]
    }
   ],
   "source": [
    "colors_copy = list(colors)\n",
    "colors_copy.reverse()\n",
    "print(\"colors list:\", colors)\n",
    "print(\"colors copy list:\", colors_copy)"
   ]
  }
 ],
 "metadata": {
  "kernelspec": {
   "display_name": "Python 3",
   "language": "python",
   "name": "python3"
  },
  "language_info": {
   "codemirror_mode": {
    "name": "ipython",
    "version": 3
   },
   "file_extension": ".py",
   "mimetype": "text/x-python",
   "name": "python",
   "nbconvert_exporter": "python",
   "pygments_lexer": "ipython3",
   "version": "3.9.6"
  }
 },
 "nbformat": 4,
 "nbformat_minor": 2
}
