{
 "cells": [
  {
   "cell_type": "code",
   "execution_count": 1,
   "metadata": {},
   "outputs": [
    {
     "name": "stdout",
     "output_type": "stream",
     "text": [
      "EOQ = 141.42 units\n"
     ]
    }
   ],
   "source": [
    "import math\n",
    "\n",
    "# Setting the variables\n",
    "D = 1000\n",
    "S = 100\n",
    "H = 10\n",
    "\n",
    "# Calculating the EOQ\n",
    "EOQ = math.sqrt((2 * D * S) / H)\n",
    "\n",
    "# Rounding the result to 2 decimal places\n",
    "EOQ = round(EOQ, 2)\n",
    "\n",
    "# Print statement\n",
    "print(f\"EOQ = {EOQ} units\")"
   ]
  }
 ],
 "metadata": {
  "kernelspec": {
   "display_name": "Python 3",
   "language": "python",
   "name": "python3"
  },
  "language_info": {
   "codemirror_mode": {
    "name": "ipython",
    "version": 3
   },
   "file_extension": ".py",
   "mimetype": "text/x-python",
   "name": "python",
   "nbconvert_exporter": "python",
   "pygments_lexer": "ipython3",
   "version": "3.11.7"
  }
 },
 "nbformat": 4,
 "nbformat_minor": 2
}
