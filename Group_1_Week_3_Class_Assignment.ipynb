{
 "cells": [
  {
   "cell_type": "code",
   "execution_count": 8,
   "metadata": {},
   "outputs": [
    {
     "name": "stdout",
     "output_type": "stream",
     "text": [
      "Sum: 15\n",
      "Difference: 5\n",
      "Product: 50\n",
      "Quotient: 2.0\n"
     ]
    }
   ],
   "source": [
    "# Question 1. Calculator\n",
    "\n",
    "# Define variables\n",
    "x = 10\n",
    "y = 5\n",
    "\n",
    "# Perform calculations\n",
    "sum = x + y\n",
    "difference = x - y\n",
    "product = x * y\n",
    "quotient = x / y\n",
    "\n",
    "# Print statement\n",
    "print(\"Sum:\",sum)\n",
    "print(\"Difference:\",difference)\n",
    "print(\"Product:\",product)\n",
    "print(\"Quotient:\",quotient)"
   ]
  },
  {
   "cell_type": "code",
   "execution_count": 9,
   "metadata": {},
   "outputs": [
    {
     "name": "stdout",
     "output_type": "stream",
     "text": [
      "Rectangle Area: 15\n",
      "Rectangle Perimeter: 16\n"
     ]
    }
   ],
   "source": [
    "# Question 2. Rectangle Measurements\n",
    "\n",
    "# Define variables\n",
    "length = 5\n",
    "width = 3\n",
    "\n",
    "# Perform calculations\n",
    "area = length * width\n",
    "perimeter = 2 * (length + width)\n",
    "\n",
    "# Print statement\n",
    "print(\"Rectangle Area:\",area)\n",
    "print(\"Rectangle Perimeter:\",perimeter)"
   ]
  },
  {
   "cell_type": "code",
   "execution_count": 10,
   "metadata": {},
   "outputs": [
    {
     "name": "stdout",
     "output_type": "stream",
     "text": [
      "Circle Circumfrence: 62.800000000000004\n",
      "Circle Area: 314.0\n"
     ]
    }
   ],
   "source": [
    "# Question 3. Circle Measurements\n",
    "\n",
    "# Define variables\n",
    "radius = 10\n",
    "pi = 3.14\n",
    "\n",
    "# Perform calculations\n",
    "circumfrence = 2 * pi * radius\n",
    "area = pi * (radius) ** 2\n",
    "\n",
    "# Print statement\n",
    "print(\"Circle Circumfrence:\",circumfrence)\n",
    "print(\"Circle Area:\",area)"
   ]
  },
  {
   "cell_type": "code",
   "execution_count": 11,
   "metadata": {},
   "outputs": [
    {
     "name": "stdout",
     "output_type": "stream",
     "text": [
      "Celsius: 35\n",
      "Fahrenheit: 95.0\n"
     ]
    }
   ],
   "source": [
    "# Question 4. Temperature Conversion\n",
    "\n",
    "# Define variables\n",
    "celsius = 35\n",
    "\n",
    "# Perform calculation\n",
    "fahrenheit = celsius * 9/5 + 32\n",
    "\n",
    "# Print statement\n",
    "print(\"Celsius:\",celsius)\n",
    "print(\"Fahrenheit:\",fahrenheit)"
   ]
  },
  {
   "cell_type": "code",
   "execution_count": 12,
   "metadata": {},
   "outputs": [],
   "source": [
    "# Created by Brooks Jackson, Antonio Rosado, Lucia Donati, and Sean Acheampong"
   ]
  }
 ],
 "metadata": {
  "kernelspec": {
   "display_name": "Python 3",
   "language": "python",
   "name": "python3"
  },
  "language_info": {
   "codemirror_mode": {
    "name": "ipython",
    "version": 3
   },
   "file_extension": ".py",
   "mimetype": "text/x-python",
   "name": "python",
   "nbconvert_exporter": "python",
   "pygments_lexer": "ipython3",
   "version": "3.11.7"
  }
 },
 "nbformat": 4,
 "nbformat_minor": 2
}
